{
 "cells": [
  {
   "cell_type": "code",
   "execution_count": 2,
   "id": "ff2b6aed-b8c8-4a1b-921b-1c167abf1c39",
   "metadata": {},
   "outputs": [],
   "source": [
    "import torch\n",
    "import torchvision\n",
    "import torchvision.transforms as transforms\n",
    "from torchvision.datasets import ImageFolder\n",
    "import torch.nn.functional as F\n",
    "from torch import optim\n",
    "from torch import nn"
   ]
  },
  {
   "cell_type": "markdown",
   "id": "7d8f02e6-3f75-490d-8a0e-0409cc4b30df",
   "metadata": {},
   "source": [
    "## Define models"
   ]
  },
  {
   "cell_type": "code",
   "execution_count": 3,
   "id": "4159f90f-7934-49f4-b4f9-345e88a54e67",
   "metadata": {},
   "outputs": [],
   "source": [
    "class CNN(nn.Module):\n",
    "  def __init__(self):\n",
    "    super().__init__()\n",
    "    # First convolutional layer (in_channels, out_channels, kernel_size) , out_channels = number of filters\n",
    "    # 3 input channels, 6 output channels, 5x5 kernel size\n",
    "    self.conv1 = nn.Conv2d(3,6,5)\n",
    "    self.pool = nn.MaxPool2d(2,2)\n",
    "    self.conv2 = nn.Conv2d(6, 16, 5)\n",
    "    self.fc1 = nn.Linear(16*5*5, 2)\n",
    "  def forward(self,x):\n",
    "    x = self.pool(F.relu(self.conv1(x))) #apply conv. then apply pooling\n",
    "    x = self.pool(F.relu(self.conv2(x)))\n",
    "    x = torch.flatten(x,1)\n",
    "    x = self.fc1(x)\n",
    "    return x\n",
    "\n",
    "class Generator(nn.Module):\n",
    "    def __init__(self):\n",
    "        super(Generator, self).__init__()\n",
    "        self.main = nn.Sequential(\n",
    "            nn.Conv3d(3, 64, kernel_size=3, stride=1, padding=1),\n",
    "            nn.ReLU(),\n",
    "            nn.Conv3d(64, 3, kernel_size=3, stride=1, padding=1),\n",
    "            nn.Tanh()\n",
    "        )\n",
    "    \n",
    "    def forward(self, x):\n",
    "        return self.main(x)\n"
   ]
  },
  {
   "cell_type": "markdown",
   "id": "78d4e6b7-5cb7-44c3-ae16-932bff8756ee",
   "metadata": {},
   "source": [
    "## Define device"
   ]
  },
  {
   "cell_type": "code",
   "execution_count": 4,
   "id": "296d16cb-d485-40f7-952b-2b9c6b1e4f70",
   "metadata": {},
   "outputs": [
    {
     "name": "stdout",
     "output_type": "stream",
     "text": [
      "cuda\n"
     ]
    }
   ],
   "source": [
    "device = \"cuda\" if torch.cuda.is_available() else \"cpu\"\n",
    "print(device)"
   ]
  },
  {
   "cell_type": "markdown",
   "id": "27be60b9-5870-4c1f-92e8-3d8cb68610bb",
   "metadata": {},
   "source": [
    "## Load models"
   ]
  },
  {
   "cell_type": "code",
   "execution_count": 6,
   "id": "02f9ff92-c1d4-4a4a-a84c-8a89c36b7a99",
   "metadata": {},
   "outputs": [],
   "source": [
    "G_A2B = Generator().to(device)\n",
    "G_A2B.load_state_dict(torch.load('./generator_A2B.pth',weights_only = True))\n",
    "\n",
    "G_B2A = Generator().to(device)\n",
    "G_B2A.load_state_dict(torch.load('./generator_B2A.pth',weights_only = True))\n",
    "\n",
    "cnn_model = CNN().to(device)"
   ]
  }
 ],
 "metadata": {
  "kernelspec": {
   "display_name": "Python 3 (ipykernel)",
   "language": "python",
   "name": "python3"
  },
  "language_info": {
   "codemirror_mode": {
    "name": "ipython",
    "version": 3
   },
   "file_extension": ".py",
   "mimetype": "text/x-python",
   "name": "python",
   "nbconvert_exporter": "python",
   "pygments_lexer": "ipython3",
   "version": "3.11.0"
  }
 },
 "nbformat": 4,
 "nbformat_minor": 5
}
