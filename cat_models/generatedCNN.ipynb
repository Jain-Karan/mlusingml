{
 "cells": [
  {
   "cell_type": "code",
   "execution_count": 22,
   "id": "ff2b6aed-b8c8-4a1b-921b-1c167abf1c39",
   "metadata": {},
   "outputs": [],
   "source": [
    "import torch\n",
    "import torchvision\n",
    "import torchvision.transforms as transforms\n",
    "from torchvision.datasets import ImageFolder\n",
    "import torch.nn.functional as F\n",
    "from torch import optim\n",
    "from torch import nn\n",
    "import numpy as np\n",
    "import matplotlib.pyplot as plt"
   ]
  },
  {
   "cell_type": "markdown",
   "id": "7d8f02e6-3f75-490d-8a0e-0409cc4b30df",
   "metadata": {},
   "source": [
    "## Define models"
   ]
  },
  {
   "cell_type": "code",
   "execution_count": 12,
   "id": "4159f90f-7934-49f4-b4f9-345e88a54e67",
   "metadata": {},
   "outputs": [],
   "source": [
    "class CNN(nn.Module):\n",
    "  def __init__(self):\n",
    "    super().__init__()\n",
    "    # First convolutional layer (in_channels, out_channels, kernel_size) , out_channels = number of filters\n",
    "    # 3 input channels, 6 output channels, 5x5 kernel size\n",
    "    self.conv1 = nn.Conv2d(3,6,5)\n",
    "    self.pool = nn.MaxPool2d(2,2)\n",
    "    self.conv2 = nn.Conv2d(6, 16, 5)\n",
    "    self.fc1 = nn.Linear(16*5*5, 2)\n",
    "  def forward(self,x):\n",
    "    x = self.pool(F.relu(self.conv1(x))) #apply conv. then apply pooling\n",
    "    x = self.pool(F.relu(self.conv2(x)))\n",
    "    x = torch.flatten(x,1)\n",
    "    x = self.fc1(x)\n",
    "    return x\n",
    "\n",
    "class Generator_0(nn.Module):\n",
    "    def __init__(self):\n",
    "        super(Generator_0, self).__init__()\n",
    "        self.main = nn.Sequential(\n",
    "            nn.Conv3d(3, 64, kernel_size=3, stride=1, padding=1),\n",
    "            nn.ReLU(),\n",
    "            nn.Conv3d(64, 3, kernel_size=3, stride=1, padding=1),\n",
    "            nn.Tanh()\n",
    "        )\n",
    "    \n",
    "    def forward(self, x):\n",
    "        return self.main(x)\n",
    "\n",
    "class Generator_2(nn.Module):\n",
    "    def __init__(self):\n",
    "        super(Generator_2, self).__init__()\n",
    "        self.main = nn.Sequential(\n",
    "            nn.Conv3d(6, 64, kernel_size=3, stride=1, padding=1),\n",
    "            nn.ReLU(),\n",
    "            nn.Conv3d(64, 6, kernel_size=3, stride=1, padding=1),\n",
    "            nn.Tanh()\n",
    "        )\n",
    "    \n",
    "    def forward(self, x):\n",
    "        return self.main(x)"
   ]
  },
  {
   "cell_type": "markdown",
   "id": "78d4e6b7-5cb7-44c3-ae16-932bff8756ee",
   "metadata": {},
   "source": [
    "## Define device"
   ]
  },
  {
   "cell_type": "code",
   "execution_count": 13,
   "id": "296d16cb-d485-40f7-952b-2b9c6b1e4f70",
   "metadata": {},
   "outputs": [
    {
     "name": "stdout",
     "output_type": "stream",
     "text": [
      "cuda\n"
     ]
    }
   ],
   "source": [
    "device = \"cuda\" if torch.cuda.is_available() else \"cpu\"\n",
    "print(device)"
   ]
  },
  {
   "cell_type": "markdown",
   "id": "27be60b9-5870-4c1f-92e8-3d8cb68610bb",
   "metadata": {},
   "source": [
    "## Load models"
   ]
  },
  {
   "cell_type": "code",
   "execution_count": 14,
   "id": "02f9ff92-c1d4-4a4a-a84c-8a89c36b7a99",
   "metadata": {},
   "outputs": [],
   "source": [
    "G_A2B_0 = Generator_0().to(device)\n",
    "G_A2B_0.load_state_dict(torch.load('./generator_A2B.pth',weights_only = True))\n",
    "\n",
    "G_B2A_0 = Generator_0().to(device)\n",
    "G_B2A_0.load_state_dict(torch.load('./generator_B2A.pth',weights_only = True))\n",
    "\n",
    "G_A2B_2 = Generator_2().to(device)\n",
    "G_A2B_2.load_state_dict(torch.load('./2_generator_A2B.pth',weights_only = True))\n",
    "\n",
    "G_B2A_2 = Generator_2().to(device)\n",
    "G_B2A_2.load_state_dict(torch.load('./2_generator_B2A.pth',weights_only = True))\n",
    "\n",
    "cnn_model = CNN().to(device)"
   ]
  },
  {
   "cell_type": "code",
   "execution_count": 16,
   "id": "4c76521a-0201-4731-9486-e9ec83dfa194",
   "metadata": {},
   "outputs": [],
   "source": [
    "model = 3\n",
    "real_A_2 = torch.load(f'./black_layers_permuted/2/2_{model:04}.pth', weights_only=True).to(device)\n",
    "real_A_0 = torch.load(f'./cat_layers_permuted/0/0_{model:04}.pth', weights_only=True).to(device)\n",
    "real_B_2 = torch.load(f'./cat_layers_permuted/2/2_{model:04}.pth', weights_only=True).to(device)\n",
    "real_B_0 = torch.load(f'./cat_layers_permuted/0/0_{model:04}.pth', weights_only=True).to(device)\n",
    "\n",
    "\n",
    "# Assuming G_A and G_B are your trained generators\n",
    "G_A2B.to(device).eval()\n",
    "G_B2A.to(device).eval()\n",
    "\n",
    "# Generate layer0 fake images (domain A -> B and B -> A)\n",
    "fake_B_0 = G_A2B_0(real_A_0).permute(1, 0, 2, 3)\n",
    "fake_A_0 = G_B2A_0(real_B_0).permute(1, 0, 2, 3)\n",
    "\n",
    "# Generate layer2 fake images (domain A -> B and B -> A)\n",
    "fake_B_2 = G_A2B_2(real_A_2).permute(1, 0, 2, 3)\n",
    "fake_A_2 = G_B2A_2(real_B_2).permute(1, 0, 2, 3)"
   ]
  },
  {
   "cell_type": "markdown",
   "id": "e5965f89-da90-4e90-a940-cd6aa72b1a4a",
   "metadata": {},
   "source": [
    "## Visualise"
   ]
  },
  {
   "cell_type": "code",
   "execution_count": 23,
   "id": "cfaef54a-ad74-4442-a77b-b1e699e2fff0",
   "metadata": {},
   "outputs": [],
   "source": [
    "def visTensor(tensor, ch=0, allkernels=False, nrow=8, padding=1): \n",
    "        n,c,w,h = tensor.shape\n",
    "\n",
    "        if allkernels: tensor = tensor.view(n*c, -1, w, h)\n",
    "        elif c != 3: tensor = tensor[:,ch,:,:].unsqueeze(dim=1)\n",
    "\n",
    "        rows = np.min((tensor.shape[0] // nrow + 1, 64))    \n",
    "        grid = torchvision.utils.make_grid(tensor, nrow=nrow, normalize=True, padding=padding)\n",
    "        plt.figure( figsize=(nrow,rows) )\n",
    "        plt.imshow(grid.numpy().transpose((1, 2, 0)))\n"
   ]
  },
  {
   "cell_type": "code",
   "execution_count": 30,
   "id": "652a7629-8ec5-4bb8-8846-93a27ab495ac",
   "metadata": {},
   "outputs": [
    {
     "name": "stdout",
     "output_type": "stream",
     "text": [
      "torch.Size([6, 3, 5, 5])\n",
      "torch.Size([16, 6, 5, 5])\n",
      "torch.Size([6, 3, 5, 5])\n",
      "torch.Size([16, 6, 5, 5])\n"
     ]
    },
    {
     "data": {
      "image/png": "[encoded data removed]",
      "text/plain": [
       "<Figure size 800x100 with 1 Axes>"
      ]
     },
     "metadata": {},
     "output_type": "display_data"
    },
    {
     "data": {
      "image/png": "[encoded data removed]",
      "text/plain": [
       "<Figure size 800x100 with 1 Axes>"
      ]
     },
     "metadata": {},
     "output_type": "display_data"
    },
    {
     "data": {
      "image/png": "[encoded data removed]",
      "text/plain": [
       "<Figure size 800x300 with 1 Axes>"
      ]
     },
     "metadata": {},
     "output_type": "display_data"
    },
    {
     "data": {
      "image/png": "[encoded data removed]",
      "text/plain": [
       "<Figure size 800x300 with 1 Axes>"
      ]
     },
     "metadata": {},
     "output_type": "display_data"
    },
    {
     "data": {
      "image/png": "[encoded data removed]",
      "text/plain": [
       "<Figure size 800x100 with 1 Axes>"
      ]
     },
     "metadata": {},
     "output_type": "display_data"
    },
    {
     "data": {
      "image/png": "[encoded data removed]",
      "text/plain": [
       "<Figure size 800x100 with 1 Axes>"
      ]
     },
     "metadata": {},
     "output_type": "display_data"
    },
    {
     "data": {
      "image/png": "[encoded data removed]",
      "text/plain": [
       "<Figure size 800x300 with 1 Axes>"
      ]
     },
     "metadata": {},
     "output_type": "display_data"
    },
    {
     "data": {
      "image/png": "[encoded data removed]",
      "text/plain": [
       "<Figure size 800x300 with 1 Axes>"
      ]
     },
     "metadata": {},
     "output_type": "display_data"
    }
   ],
   "source": [
    "\n",
    "print(fake_A_0.shape)\n",
    "print(fake_A_2.shape)\n",
    "visTensor(real_A_0.cpu().permute(1, 0, 2, 3), ch=0, allkernels=False)\n",
    "visTensor(fake_A_0.cpu(), ch=0, allkernels=False)\n",
    "visTensor(real_A_2.cpu().permute(1, 0, 2, 3), ch=0, allkernels=False)\n",
    "visTensor(fake_A_2.cpu(), ch=0, allkernels=False)\n",
    "\n",
    "print(fake_B_0.shape)\n",
    "print(fake_B_2.shape)\n",
    "visTensor(real_B_0.cpu().permute(1, 0, 2, 3), ch=0, allkernels=False)\n",
    "visTensor(fake_B_0.cpu(), ch=0, allkernels=False)\n",
    "visTensor(real_B_2.cpu().permute(1, 0, 2, 3), ch=0, allkernels=False)\n",
    "visTensor(fake_B_2.cpu(), ch=0, allkernels=False)"
   ]
  },
  {
   "cell_type": "code",
   "execution_count": null,
   "id": "d65d916b-f434-41a2-b9d2-5e9a8c5cb9e8",
   "metadata": {},
   "outputs": [],
   "source": []
  }
 ],
 "metadata": {
  "kernelspec": {
   "display_name": "Python 3 (ipykernel)",
   "language": "python",
   "name": "python3"
  },
  "language_info": {
   "codemirror_mode": {
    "name": "ipython",
    "version": 3
   },
   "file_extension": ".py",
   "mimetype": "text/x-python",
   "name": "python",
   "nbconvert_exporter": "python",
   "pygments_lexer": "ipython3",
   "version": "3.11.0"
  }
 },
 "nbformat": 4,
 "nbformat_minor": 5
}
